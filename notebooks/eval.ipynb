{
  "nbformat": 4,
  "nbformat_minor": 0,
  "metadata": {
    "colab": {
      "provenance": [],
      "gpuType": "T4"
    },
    "kernelspec": {
      "name": "python3",
      "display_name": "Python 3"
    },
    "language_info": {
      "name": "python"
    },
    "accelerator": "GPU"
  },
  "cells": [
    {
      "cell_type": "code",
      "execution_count": 1,
      "metadata": {
        "colab": {
          "base_uri": "https://localhost:8080/"
        },
        "id": "O5bdylM8Wza4",
        "outputId": "1cecc2f0-a622-4c8d-9502-4e0b72568aba"
      },
      "outputs": [
        {
          "output_type": "stream",
          "name": "stdout",
          "text": [
            "Cloning into 'MVTec-Reconstruct'...\n",
            "remote: Enumerating objects: 52, done.\u001b[K\n",
            "remote: Counting objects: 100% (52/52), done.\u001b[K\n",
            "remote: Compressing objects: 100% (39/39), done.\u001b[K\n",
            "remote: Total 52 (delta 14), reused 47 (delta 9), pack-reused 0 (from 0)\u001b[K\n",
            "Receiving objects: 100% (52/52), 3.29 MiB | 6.45 MiB/s, done.\n",
            "Resolving deltas: 100% (14/14), done.\n"
          ]
        }
      ],
      "source": [
        "!git clone https://github.com/sujay-2001/MVTec-Reconstruct.git"
      ]
    },
    {
      "cell_type": "code",
      "source": [
        "%cd MVTec-Reconstruct"
      ],
      "metadata": {
        "colab": {
          "base_uri": "https://localhost:8080/"
        },
        "id": "W4D_c8kEZBHE",
        "outputId": "54694d91-342a-41f8-ef3b-f3a881aa96ba"
      },
      "execution_count": 2,
      "outputs": [
        {
          "output_type": "stream",
          "name": "stdout",
          "text": [
            "/content/MVTec-Reconstruct\n"
          ]
        }
      ]
    },
    {
      "cell_type": "code",
      "source": [
        "from google.colab import drive\n",
        "drive.mount('/content/drive')"
      ],
      "metadata": {
        "colab": {
          "base_uri": "https://localhost:8080/"
        },
        "id": "mp4ZuAfNZEf8",
        "outputId": "e136507c-4f8c-4f08-c79d-0f1a7af44246"
      },
      "execution_count": 3,
      "outputs": [
        {
          "output_type": "stream",
          "name": "stdout",
          "text": [
            "Mounted at /content/drive\n"
          ]
        }
      ]
    },
    {
      "cell_type": "code",
      "source": [
        "!pip install pytorch-msssim"
      ],
      "metadata": {
        "colab": {
          "base_uri": "https://localhost:8080/"
        },
        "id": "kmRaces7i0-u",
        "outputId": "a229bb03-bb38-45d4-8e54-36156b740c9a"
      },
      "execution_count": 4,
      "outputs": [
        {
          "output_type": "stream",
          "name": "stdout",
          "text": [
            "Collecting pytorch-msssim\n",
            "  Downloading pytorch_msssim-1.0.0-py3-none-any.whl.metadata (8.0 kB)\n",
            "Requirement already satisfied: torch in /usr/local/lib/python3.10/dist-packages (from pytorch-msssim) (2.5.0+cu121)\n",
            "Requirement already satisfied: filelock in /usr/local/lib/python3.10/dist-packages (from torch->pytorch-msssim) (3.16.1)\n",
            "Requirement already satisfied: typing-extensions>=4.8.0 in /usr/local/lib/python3.10/dist-packages (from torch->pytorch-msssim) (4.12.2)\n",
            "Requirement already satisfied: networkx in /usr/local/lib/python3.10/dist-packages (from torch->pytorch-msssim) (3.4.2)\n",
            "Requirement already satisfied: jinja2 in /usr/local/lib/python3.10/dist-packages (from torch->pytorch-msssim) (3.1.4)\n",
            "Requirement already satisfied: fsspec in /usr/local/lib/python3.10/dist-packages (from torch->pytorch-msssim) (2024.10.0)\n",
            "Requirement already satisfied: sympy==1.13.1 in /usr/local/lib/python3.10/dist-packages (from torch->pytorch-msssim) (1.13.1)\n",
            "Requirement already satisfied: mpmath<1.4,>=1.1.0 in /usr/local/lib/python3.10/dist-packages (from sympy==1.13.1->torch->pytorch-msssim) (1.3.0)\n",
            "Requirement already satisfied: MarkupSafe>=2.0 in /usr/local/lib/python3.10/dist-packages (from jinja2->torch->pytorch-msssim) (3.0.2)\n",
            "Downloading pytorch_msssim-1.0.0-py3-none-any.whl (7.7 kB)\n",
            "Installing collected packages: pytorch-msssim\n",
            "Successfully installed pytorch-msssim-1.0.0\n"
          ]
        }
      ]
    },
    {
      "cell_type": "code",
      "source": [
        "!python3 eval.py"
      ],
      "metadata": {
        "colab": {
          "base_uri": "https://localhost:8080/"
        },
        "id": "etn8w9s0ZjNH",
        "outputId": "09f0d087-3c06-4cf3-a39b-22100a05b66a"
      },
      "execution_count": 5,
      "outputs": [
        {
          "output_type": "stream",
          "name": "stdout",
          "text": [
            "/content/MVTec-Reconstruct/eval.py:26: FutureWarning: You are using `torch.load` with `weights_only=False` (the current default value), which uses the default pickle module implicitly. It is possible to construct malicious pickle data which will execute arbitrary code during unpickling (See https://github.com/pytorch/pytorch/blob/main/SECURITY.md#untrusted-models for more details). In a future release, the default value for `weights_only` will be flipped to `True`. This limits the functions that could be executed during unpickling. Arbitrary objects will no longer be allowed to be loaded via this mode unless they are explicitly allowlisted by the user via `torch.serialization.add_safe_globals`. We recommend you start setting `weights_only=True` for any use case where you don't have full control of the loaded file. Please open an issue on GitHub for any issues related to this experimental feature.\n",
            "  denoising_model.load_state_dict(torch.load(config['val']['model_checkpoint']))\n",
            "100% 88/88 [02:11<00:00,  1.49s/it]\n",
            "PSNR:\n",
            "\n",
            "Category: Overall\n",
            "  bottle: 31.075168291727703 dB\n",
            "  capsule: 35.649332427978514 dB\n",
            "  hazelnut: 32.20882797241211 dB\n",
            "  pill: 35.75745703957298 dB\n",
            "  grid: 28.082362747192384 dB\n",
            "  screw: 33.26741361618042 dB\n",
            "  carpet: 22.30882797241211 dB\n",
            "  cable: 27.823150396347046 dB\n",
            "  metal_nut: 29.608281135559082 dB\n",
            "  leather: 27.037598037719725 dB\n",
            "  wood: 26.422932052612303 dB\n",
            "  zipper: 28.5615964617048 dB\n",
            "  tile: 25.045339584350586 dB\n",
            "  transistor: 29.77051544189453 dB\n",
            "  toothbrush: 30.574854532877605 dB\n",
            "\n",
            "Category: Defect\n",
            "  bottle: 38.51982180277506 dB\n",
            "  capsule: 53.50702667236328 dB\n",
            "  hazelnut: 38.015325927734374 dB\n",
            "  pill: 48.233254345980555 dB\n",
            "  grid: 44.47477493286133 dB\n",
            "  screw: 50.50736045837402 dB\n",
            "  carpet: 39.502593231201175 dB\n",
            "  cable: 42.394529819488525 dB\n",
            "  metal_nut: 41.68268140157064 dB\n",
            "  leather: 46.847039794921876 dB\n",
            "  wood: 40.2852424621582 dB\n",
            "  zipper: 41.385808672223774 dB\n",
            "  tile: 36.013607788085935 dB\n",
            "  transistor: 40.88364028930664 dB\n",
            "  toothbrush: 43.06509653727213 dB\n",
            "\n",
            "SSIM:\n",
            "\n",
            "Category: Overall\n",
            "  bottle: 0.8840494950612386\n",
            "  capsule: 0.907630455493927\n",
            "  hazelnut: 0.9031445026397705\n",
            "  pill: 0.9260247999971564\n",
            "  grid: 0.8504078269004822\n",
            "  screw: 0.92414341121912\n",
            "  carpet: 0.5906998753547669\n",
            "  cable: 0.8729452043771744\n",
            "  metal_nut: 0.8101938168207804\n",
            "  leather: 0.6585219860076904\n",
            "  wood: 0.6459366083145142\n",
            "  zipper: 0.7199509825025286\n",
            "  tile: 0.6761344075202942\n",
            "  transistor: 0.9092129915952682\n",
            "  toothbrush: 0.9004102150599161\n",
            "\n",
            "Category: Defect\n",
            "  bottle: 0.9861688017845154\n",
            "  capsule: 0.9993157148361206\n",
            "  hazelnut: 0.9830767035484314\n",
            "  pill: 0.9833473346450112\n",
            "  grid: 0.9972142934799194\n",
            "  screw: 0.9986950606107712\n",
            "  carpet: 0.9879488587379456\n",
            "  cable: 0.9929163828492165\n",
            "  metal_nut: 0.9882957537968954\n",
            "  leather: 0.99642413854599\n",
            "  wood: 0.9905117273330688\n",
            "  zipper: 0.9921644415174212\n",
            "  tile: 0.9671460747718811\n",
            "  transistor: 0.9795549958944321\n",
            "  toothbrush: 0.994193971157074\n",
            "\n",
            "Category: Overall\n",
            "PSNR: 30.007626598531548\n",
            "SSIM: 0.8212336295030334\n",
            "\n",
            "Category: Defect\n",
            "PSNR: 43.530164827000014\n",
            "SSIM: 0.9892118193886497\n",
            "\n",
            "Metrics exported to /content/drive/MyDrive/KLA_Proj/Outputs/metrics.xlsx\n"
          ]
        }
      ]
    }
  ]
}